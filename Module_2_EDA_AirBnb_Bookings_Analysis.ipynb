{
  "nbformat": 4,
  "nbformat_minor": 0,
  "metadata": {
    "colab": {
      "private_outputs": true,
      "provenance": [],
      "collapsed_sections": [
        "vncDsAP0Gaoa",
        "FJNUwmbgGyua",
        "w6K7xa23Elo4",
        "mDgbUHAGgjLW",
        "Y3lxredqlCYt",
        "x71ZqKXriCWQ",
        "K5QZ13OEpz2H",
        "lQ7QKXXCp7Bj",
        "t6dVpIINYklI",
        "ijmpgYnKYklI",
        "PIIx-8_IphqN",
        "BZR9WyysphqO",
        "gIfDvo9L0UH2"
      ]
    },
    "kernelspec": {
      "name": "python3",
      "display_name": "Python 3"
    },
    "language_info": {
      "name": "python"
    }
  },
  "cells": [
    {
      "cell_type": "markdown",
      "source": [
        "# **Project Name**    - AirBnb Bookings Analysis\n",
        "\n"
      ],
      "metadata": {
        "id": "vncDsAP0Gaoa"
      }
    },
    {
      "cell_type": "markdown",
      "source": [
        "##### **Project Type**    - EDA\n",
        "##### **Contribution**    - Individual\n"
      ],
      "metadata": {
        "id": "beRrZCGUAJYm"
      }
    },
    {
      "cell_type": "markdown",
      "source": [
        "# **Project Summary -**\n",
        "Since 2008, guests and hosts have used Airbnb to expand on traveling possibilities and present more unique, personalized way of experiencing the world.\n",
        "This project focuses on analyzing Airbnb listings to uncover key insights about the rental market, with a particular emphasis on pricing, availability, and other crucial factors influencing listing performance. The dataset used in this analysis contains 48,895 rows and 16 columns, covering listings in various neighborhoods. Each row represents a specific Airbnb listing, and the columns contain attributes like listing ID, host information, location, property type, price, and booking availability."
      ],
      "metadata": {
        "id": "FJNUwmbgGyua"
      }
    },
    {
      "cell_type": "markdown",
      "source": [
        "Write the summary here within 500-600 words."
      ],
      "metadata": {
        "id": "F6v_1wHtG2nS"
      }
    },
    {
      "cell_type": "markdown",
      "source": [
        "# **GitHub Link -**"
      ],
      "metadata": {
        "id": "w6K7xa23Elo4"
      }
    },
    {
      "cell_type": "markdown",
      "source": [
        "Provide your GitHub Link here."
      ],
      "metadata": {
        "id": "h1o69JH3Eqqn"
      }
    },
    {
      "cell_type": "markdown",
      "source": [
        "# **Problem Statement**\n"
      ],
      "metadata": {
        "id": "yQaldy8SH6Dl"
      }
    },
    {
      "cell_type": "markdown",
      "source": [
        "We need to analyze Airbnb listing data to uncover key trends such as which neighborhoods command the highest prices, how room type affects pricing, and relations between number of bookings and customer reviews.\n"
      ],
      "metadata": {
        "id": "DpeJGUA3kjGy"
      }
    },
    {
      "cell_type": "markdown",
      "source": [
        "#### **Define Your Business Objective?**"
      ],
      "metadata": {
        "id": "PH-0ReGfmX4f"
      }
    },
    {
      "cell_type": "markdown",
      "source": [
        "Analyze Airbnb listing data to identify key factors that drive pricing and bookings, helping hosts optimize their rental strategies in a competitive market."
      ],
      "metadata": {
        "id": "PhDvGCAqmjP1"
      }
    },
    {
      "cell_type": "markdown",
      "source": [
        "# **General Guidelines** : -  "
      ],
      "metadata": {
        "id": "mDgbUHAGgjLW"
      }
    },
    {
      "cell_type": "markdown",
      "source": [
        "1.   Well-structured, formatted, and commented code is required.\n",
        "2.   Exception Handling, Production Grade Code & Deployment Ready Code will be a plus. Those students will be awarded some additional credits.\n",
        "     \n",
        "     The additional credits will have advantages over other students during Star Student selection.\n",
        "       \n",
        "             [ Note: - Deployment Ready Code is defined as, the whole .ipynb notebook should be executable in one go\n",
        "                       without a single error logged. ]\n",
        "\n",
        "3.   Each and every logic should have proper comments.\n",
        "4. You may add as many number of charts you want. Make Sure for each and every chart the following format should be answered.\n",
        "        \n",
        "\n",
        "```\n",
        "# Chart visualization code\n",
        "```\n",
        "            \n",
        "\n",
        "*   Why did you pick the specific chart?\n",
        "*   What is/are the insight(s) found from the chart?\n",
        "* Will the gained insights help creating a positive business impact?\n",
        "Are there any insights that lead to negative growth? Justify with specific reason.\n",
        "\n",
        "5. You have to create at least 20 logical & meaningful charts having important insights.\n",
        "\n",
        "\n",
        "[ Hints : - Do the Vizualization in  a structured way while following \"UBM\" Rule.\n",
        "\n",
        "U - Univariate Analysis,\n",
        "\n",
        "B - Bivariate Analysis (Numerical - Categorical, Numerical - Numerical, Categorical - Categorical)\n",
        "\n",
        "M - Multivariate Analysis\n",
        " ]\n",
        "\n",
        "\n",
        "\n"
      ],
      "metadata": {
        "id": "ZrxVaUj-hHfC"
      }
    },
    {
      "cell_type": "markdown",
      "source": [
        "# ***Let's Begin !***"
      ],
      "metadata": {
        "id": "O_i_v8NEhb9l"
      }
    },
    {
      "cell_type": "markdown",
      "source": [
        "## ***1. Know Your Data***"
      ],
      "metadata": {
        "id": "HhfV-JJviCcP"
      }
    },
    {
      "cell_type": "markdown",
      "source": [
        "### Import Libraries"
      ],
      "metadata": {
        "id": "Y3lxredqlCYt"
      }
    },
    {
      "cell_type": "code",
      "source": [
        "# Import Libraries\n",
        "import numpy as np\n",
        "import pandas as pd\n",
        "from numpy import loadtxt\n",
        "import seaborn as sns\n",
        "import matplotlib.pyplot as plt\n",
        "%matplotlib inline\n",
        "from matplotlib import rcParams\n"
      ],
      "metadata": {
        "id": "M8Vqi-pPk-HR"
      },
      "execution_count": null,
      "outputs": []
    },
    {
      "cell_type": "markdown",
      "source": [
        "### Dataset Loading"
      ],
      "metadata": {
        "id": "3RnN4peoiCZX"
      }
    },
    {
      "cell_type": "code",
      "source": [
        "# Load Dataset\n",
        "from google.colab import drive\n",
        "drive.mount('/content/drive')\n",
        "file_path = '/content/drive/MyDrive/AlmaBetter Projects/Airbnb NYC 2019.csv'\n",
        "df = pd.read_csv(file_path)\n"
      ],
      "metadata": {
        "id": "4CkvbW_SlZ_R"
      },
      "execution_count": null,
      "outputs": []
    },
    {
      "cell_type": "markdown",
      "source": [
        "### Dataset First View"
      ],
      "metadata": {
        "id": "x71ZqKXriCWQ"
      }
    },
    {
      "cell_type": "code",
      "source": [
        "# Dataset First Look\n",
        "df.head()"
      ],
      "metadata": {
        "id": "LWNFOSvLl09H"
      },
      "execution_count": null,
      "outputs": []
    },
    {
      "cell_type": "markdown",
      "source": [
        "### Dataset Rows & Columns count"
      ],
      "metadata": {
        "id": "7hBIi_osiCS2"
      }
    },
    {
      "cell_type": "code",
      "source": [
        "# Dataset Rows & Columns count\n",
        "df.shape"
      ],
      "metadata": {
        "id": "Kllu7SJgmLij"
      },
      "execution_count": null,
      "outputs": []
    },
    {
      "cell_type": "markdown",
      "source": [
        "### Dataset Information"
      ],
      "metadata": {
        "id": "JlHwYmJAmNHm"
      }
    },
    {
      "cell_type": "code",
      "source": [
        "# Dataset Info\n",
        "df.info()"
      ],
      "metadata": {
        "id": "e9hRXRi6meOf"
      },
      "execution_count": null,
      "outputs": []
    },
    {
      "cell_type": "code",
      "source": [
        "# Convert columns to appropriate data types\n",
        "df['host_id'] = df['host_id'].astype(int)\n",
        "df['price'] = df['price'].astype(float)\n",
        "df['last_review'] = pd.to_datetime(df['last_review'])\n",
        "\n",
        "# Convert categorical columns to 'category' data type\n",
        "df['room_type'] = df['room_type'].astype('category')\n",
        "df['neighbourhood_group'] = df['neighbourhood_group'].astype('category')"
      ],
      "metadata": {
        "id": "fc1RCQ5FnIt2"
      },
      "execution_count": null,
      "outputs": []
    },
    {
      "cell_type": "markdown",
      "source": [
        "#### Duplicate Values"
      ],
      "metadata": {
        "id": "35m5QtbWiB9F"
      }
    },
    {
      "cell_type": "code",
      "source": [
        "# Dataset Duplicate Value Count\n",
        "len(df[df.duplicated()])\n"
      ],
      "metadata": {
        "id": "1sLdpKYkmox0"
      },
      "execution_count": null,
      "outputs": []
    },
    {
      "cell_type": "markdown",
      "source": [
        "In the dataframe, we want to handle rows with duplicate values in the specified columns (host_id, host_name, neighbourhood_group, neighbourhood, and room_type) and keep only one row per duplicate group based on the most recent 'last_review' date."
      ],
      "metadata": {
        "id": "OVuYwavrbEz-"
      }
    },
    {
      "cell_type": "code",
      "source": [
        "# Dataset Replacing Duplicated Hosts based on last review date\n",
        "\n",
        "# Step 1: Sort the DataFrame by 'last_review' to get the most recent dates first\n",
        "df = df.sort_values(by='last_review', ascending=False)\n",
        "\n",
        "# Step 2: Drop duplicates, keeping the first occurrence (most recent 'last_review')\n",
        "df = df.drop_duplicates(subset=['host_id', 'host_name', 'neighbourhood_group', 'neighbourhood', 'room_type'], keep='first')\n"
      ],
      "metadata": {
        "id": "RsxLOy5PXP7g"
      },
      "execution_count": null,
      "outputs": []
    },
    {
      "cell_type": "markdown",
      "source": [
        "#### Missing Values/Null Values"
      ],
      "metadata": {
        "id": "PoPl-ycgm1ru"
      }
    },
    {
      "cell_type": "code",
      "source": [
        "# Replace empty strings with NaN\n",
        "df.replace(\"\", np.nan, inplace=True)\n",
        "# Fill missing host names with a placeholder (e.g., 'Unknown Host')\n",
        "df['host_name'].fillna('Unknown Host', inplace=True)\n",
        "# Fill missing reviews_per_month by 0\n",
        "df.fillna({'reviews_per_month':0},inplace=True)\n",
        "# Missing Values/Null Values Count\n",
        "print(df.isnull().sum())\n"
      ],
      "metadata": {
        "id": "GgHWkxvamxVg"
      },
      "execution_count": null,
      "outputs": []
    },
    {
      "cell_type": "code",
      "source": [
        "# Visualizing the missing values\n",
        "# Checking Null Value by plotting Heatmap\n",
        "sns.heatmap(df.isnull(), cbar=False)"
      ],
      "metadata": {
        "id": "3q5wnI3om9sJ"
      },
      "execution_count": null,
      "outputs": []
    },
    {
      "cell_type": "markdown",
      "source": [
        "### What did you know about your dataset?"
      ],
      "metadata": {
        "id": "H0kj-8xxnORC"
      }
    },
    {
      "cell_type": "markdown",
      "source": [
        "The dataset provided contains detailed information about AirBNB listings, specifically for New York city. The goal of this analysis is to gain insights into the characteristics of various listings and understand factors that may influence pricing, availability, and overall review in the AirBNB market.\n",
        "The dataset comprises 48,895 rows and 16 columns, capturing a wide range of attributes related to each AirBNB listing.\n",
        "There are no missing values or duplicate entries, ensuring the integrity and reliability of the data for analysis."
      ],
      "metadata": {
        "id": "gfoNAAC-nUe_"
      }
    },
    {
      "cell_type": "markdown",
      "source": [
        "## ***2. Understanding Your Variables***"
      ],
      "metadata": {
        "id": "nA9Y7ga8ng1Z"
      }
    },
    {
      "cell_type": "code",
      "source": [
        "# Dataset Columns\n",
        "df.columns"
      ],
      "metadata": {
        "id": "j7xfkqrt5Ag5"
      },
      "execution_count": null,
      "outputs": []
    },
    {
      "cell_type": "code",
      "source": [
        "# Dataset Describe\n",
        "df.describe(include='all')"
      ],
      "metadata": {
        "id": "DnOaZdaE5Q5t"
      },
      "execution_count": null,
      "outputs": []
    },
    {
      "cell_type": "markdown",
      "source": [
        "### Variables Description"
      ],
      "metadata": {
        "id": "PBTbrJXOngz2"
      }
    },
    {
      "cell_type": "markdown",
      "source": [
        "*   **id :**listing ID.\n",
        "*   **name :**the name or title of the listing.\n",
        "*   **host_id :**unique identifier for the host.\n",
        "*   **host_name :**the name of the host.\n",
        "*   **neighbourhood :**area of the listing.\n",
        "*   **latitude :**latitude coordinates.\n",
        "*   **longitude :**longitude coordinates.\n",
        "*   **room_type :**listing space type.\n",
        "*   **price :**price in dollars.\n",
        "*   **minimum_nights :**minimum number of nights.\n",
        "*   **number_of_reviews :**Total number of reviews received.\n",
        "*   **last_review :**latest review.\n",
        "*   **reviews_per_month :**number of reviews per month.\n",
        "*   **calculated_host_listings_count :**total listing per host.\n",
        "*   **availability_365 :**number of days when listing is available for booking."
      ],
      "metadata": {
        "id": "aJV4KIxSnxay"
      }
    },
    {
      "cell_type": "markdown",
      "source": [
        "### Check Unique Values for each variable."
      ],
      "metadata": {
        "id": "u3PMJOP6ngxN"
      }
    },
    {
      "cell_type": "code",
      "source": [
        "# Check Unique Values for each variable.\n",
        "for i in df.columns.tolist():\n",
        "  print(f'No. of unique values in {i} is {df[i].nunique()}.')"
      ],
      "metadata": {
        "id": "zms12Yq5n-jE"
      },
      "execution_count": null,
      "outputs": []
    },
    {
      "cell_type": "markdown",
      "source": [
        "## 3. ***Data Wrangling***"
      ],
      "metadata": {
        "id": "dauF4eBmngu3"
      }
    },
    {
      "cell_type": "markdown",
      "source": [
        "### Data Wrangling Code"
      ],
      "metadata": {
        "id": "bKJF3rekwFvQ"
      }
    },
    {
      "cell_type": "markdown",
      "source": [
        "We get a summary of categorical columns like room_type, neighbourhood_group"
      ],
      "metadata": {
        "id": "CcaEYPZxMLBq"
      }
    },
    {
      "cell_type": "code",
      "source": [
        "# Write your code to make your dataset analysis ready.\n",
        "# Value counts for 'room_type\n",
        "df['room_type'].value_counts()\n"
      ],
      "metadata": {
        "id": "wk-9a2fpoLcV"
      },
      "execution_count": null,
      "outputs": []
    },
    {
      "cell_type": "markdown",
      "source": [
        "Value counts for 'neighbourhood_group'"
      ],
      "metadata": {
        "id": "ojvTxH1lM507"
      }
    },
    {
      "cell_type": "code",
      "source": [
        "df['neighbourhood_group'].value_counts()"
      ],
      "metadata": {
        "id": "wqYvTNDDL-K4"
      },
      "execution_count": null,
      "outputs": []
    },
    {
      "cell_type": "markdown",
      "source": [
        "We detect the listings with 0 in the 'price' column.\n"
      ],
      "metadata": {
        "id": "OSWrAKiI48Hr"
      }
    },
    {
      "cell_type": "code",
      "source": [
        "# Check if there are any rows with 'price' 0\n",
        "zero_prices= df[df['price'] == 0].count()\n",
        "print(zero_prices)\n"
      ],
      "metadata": {
        "id": "sUBRkVQ647aO"
      },
      "execution_count": null,
      "outputs": []
    },
    {
      "cell_type": "markdown",
      "source": [
        "We perform Feature Engineering to create a new feature that categorizes listings based on their price range (i.e, low, medium, high, very high and extremely high)."
      ],
      "metadata": {
        "id": "Y5U8-j0PN9Va"
      }
    },
    {
      "cell_type": "code",
      "source": [
        "# Create a new feature for price category\n",
        "bins = [0, 100, 300, 1000, 2000,10000]\n",
        "labels = ['Low', 'Medium', 'High', 'Very High','extremely high']\n",
        "df['price_category'] = pd.cut(df['price'], bins=bins, labels=labels)\n",
        "df['price_category'].value_counts()\n"
      ],
      "metadata": {
        "id": "pMMySWJQN0lm"
      },
      "execution_count": null,
      "outputs": []
    },
    {
      "cell_type": "markdown",
      "source": [
        "We will check for extreme outliers in 'price' column."
      ],
      "metadata": {
        "id": "5Bejgqy_gDd5"
      }
    },
    {
      "cell_type": "code",
      "source": [
        "# Handling outliers\n",
        "# Visualize outliers in the 'price' column\n",
        "sns.boxplot(x=df['price'])\n",
        "plt.show()"
      ],
      "metadata": {
        "id": "O7tcK_vbgCIp"
      },
      "execution_count": null,
      "outputs": []
    },
    {
      "cell_type": "markdown",
      "source": [
        "Top 10 Neighbourhoods by Listings and their mean prices"
      ],
      "metadata": {
        "id": "BvjQ_sI7PHyV"
      }
    },
    {
      "cell_type": "code",
      "source": [
        "# Top 10 neighborhoods with the most listings\n",
        "# Group by 'neighbourhood' and calculate both the sum of 'calculated_host_listings_count' and the mean price\n",
        "top_10_neighbourhoods = df.groupby('neighbourhood').agg({\n",
        "    'calculated_host_listings_count': 'sum',\n",
        "    'price': 'mean'\n",
        "}).sort_values(by='calculated_host_listings_count', ascending=False).head(10)\n",
        "\n",
        "# Display the result\n",
        "print(top_10_neighbourhoods)\n"
      ],
      "metadata": {
        "id": "ZcWSPa04O7zx"
      },
      "execution_count": null,
      "outputs": []
    },
    {
      "cell_type": "markdown",
      "source": [
        "We calculate the mean prices based on the 'room_types'"
      ],
      "metadata": {
        "id": "BvaVawiW2ZXK"
      }
    },
    {
      "cell_type": "code",
      "source": [
        "# Group by 'room_type' and calculate the mean price\n",
        "room_type_avg_price = df.groupby('room_type')['price'].mean()\n",
        "\n",
        "# Display the result\n",
        "print(room_type_avg_price)"
      ],
      "metadata": {
        "id": "YfGRzdIsjcv0"
      },
      "execution_count": null,
      "outputs": []
    },
    {
      "cell_type": "markdown",
      "source": [
        "### What all manipulations have you done and insights you found?"
      ],
      "metadata": {
        "id": "MSa1f5Uengrz"
      }
    },
    {
      "cell_type": "markdown",
      "source": [
        "In this project, we performed several key data wrangling tasks to prepare the dataset for analysis and uncover insights into the Airbnb listings. Below is a summary of the manipulations we performed and the insights derived from them:\n",
        "\n",
        "*   **Summary of Categorical Columns:**\n",
        "We analyzed categorical variables such as room_type and neighbourhood_group using value counts to understand the distribution of listings across different room types and neighbourhood groups.\n",
        "\n",
        "***Insight:*** The majority of listings fall into \"Entire home/apt\" and are concentrated in popular neighbourhood groups, such as Manhattan and Brooklyn.\n",
        "\n",
        "*   **Listings with Zero Price**:\n",
        "We detect the listings with a price of 0.\n",
        "\n",
        "***Insight:*** There are few listings with 0 price, which can be due to dynamic pricing or the unwillingness to share the price with the Airbnb.\n",
        "\n",
        "*   **Feature Engineering:**\n",
        "A new feature was created to categorize listings based on their price ranges, dividing them into categories such as low, medium, high, very high, and extremely high price groups.\n",
        "\n",
        "***Insight:*** The majority of listings fall within the low and medium price categories, with fewer listings in the very high and extremely high categories. This tells us that the 'price' data is right skewed.\n",
        "\n",
        "*   **Prices Outlier Detection:**\n",
        "We plot a boxplot to understand how the data is spread out for high ranges for the price irrespective of region.\n",
        "\n",
        "***Insight:*** The Price ranges from  0-180. But there also exists price which has a maximum of $10000. We cannot discard them as an outlier because the price varies based on different factors which includes location,room type, neighbourhood , season etc.\n",
        "\n",
        "*   **Top 10 Neighbourhoods by Listings and Mean Prices:**\n",
        "We identified the top 10 neighbourhoods with the highest number of listings and calculated their mean prices.\n",
        "\n",
        "***Insight:*** The top neighbourhood was found to be 'Williamsburg' while least listed one was 'Chelsea'. The top neighbourhood based on the average price was 'Midtown' while the least priced was 'Bushwick'.\n",
        "\n",
        "*   **Mean Prices by Room Type:**\n",
        "We calculated the mean prices for different room types (e.g., Entire home/apt, Private room, Shared room).\n",
        "\n",
        "***Insight:*** Entire homes or apartments tend to have the highest average prices, followed by private rooms, while shared rooms have the lowest average prices. This reinforces the idea that privacy and space are highly valued in the short-term rental market.\n",
        "\n",
        "These data wrangling tasks helped clean and structure the dataset, providing us with clear insights into the factors affecting Airbnb listings, such as location, room type, and pricing strategies."
      ],
      "metadata": {
        "id": "LbyXE7I1olp8"
      }
    },
    {
      "cell_type": "markdown",
      "source": [
        "## ***4. Data Vizualization, Storytelling & Experimenting with charts : Understand the relationships between variables***"
      ],
      "metadata": {
        "id": "GF8Ens_Soomf"
      }
    },
    {
      "cell_type": "markdown",
      "source": [
        "#### Chart - 1: Scatter Plot to show the neighbourhood group based on Latitude and Longitude."
      ],
      "metadata": {
        "id": "0wOQAZs5pc--"
      }
    },
    {
      "cell_type": "code",
      "source": [
        "# Chart - 1 visualization code\n",
        "plt.figure(figsize=(12,8))\n",
        "sns.scatterplot(x=df.longitude,y=df.latitude,hue=df.neighbourhood_group)\n",
        "plt.show()"
      ],
      "metadata": {
        "id": "7v_ESjsspbW7"
      },
      "execution_count": null,
      "outputs": []
    },
    {
      "cell_type": "markdown",
      "source": [
        "##### 1. Why did you pick the specific chart?"
      ],
      "metadata": {
        "id": "K5QZ13OEpz2H"
      }
    },
    {
      "cell_type": "markdown",
      "source": [
        "To clearly visualize the neighbourhood group as a cluster based on Latitude and Longitude."
      ],
      "metadata": {
        "id": "XESiWehPqBRc"
      }
    },
    {
      "cell_type": "markdown",
      "source": [
        "##### 2. What is/are the insight(s) found from the chart?"
      ],
      "metadata": {
        "id": "lQ7QKXXCp7Bj"
      }
    },
    {
      "cell_type": "markdown",
      "source": [
        "The higher density of listings in Manhattan and Brooklyn suggests these areas are popular destinations for visitors.\n",
        "\n"
      ],
      "metadata": {
        "id": "C_j1G7yiqdRP"
      }
    },
    {
      "cell_type": "markdown",
      "source": [
        "##### 3. Will the gained insights help creating a positive business impact?\n",
        "Are there any insights that lead to negative growth? Justify with specific reason."
      ],
      "metadata": {
        "id": "448CDAPjqfQr"
      }
    },
    {
      "cell_type": "markdown",
      "source": [
        "*   **Positive impact-** The insights gained from this chart will allow Airbnb hosts and the platform to focus marketing efforts on popular areas like Manhattan and Brooklyn, where demand is high.\n",
        "*   **Negative impact**- The high density of listings in areas like Manhattan and Brooklyn may lead to over-saturation, causing increased competition between hosts.\n",
        "\n"
      ],
      "metadata": {
        "id": "3cspy4FjqxJW"
      }
    },
    {
      "cell_type": "markdown",
      "source": [
        "#### Chart - 2: Room Types"
      ],
      "metadata": {
        "id": "KSlN3yHqYklG"
      }
    },
    {
      "cell_type": "code",
      "source": [
        "# Chart - 2 visualization code\n",
        "df['room_type'].value_counts().plot(kind='bar',color=['r','b','y'])\n",
        "plt.show()"
      ],
      "metadata": {
        "id": "R4YgtaqtYklH"
      },
      "execution_count": null,
      "outputs": []
    },
    {
      "cell_type": "markdown",
      "source": [
        "##### 1. Why did you pick the specific chart?\n",
        "\n"
      ],
      "metadata": {
        "id": "t6dVpIINYklI"
      }
    },
    {
      "cell_type": "markdown",
      "source": [
        "To provide a visual representation of the distribution of Airbnb listings by room type (Entire home/apt, Private room, and Shared room)"
      ],
      "metadata": {
        "id": "6gWFtL_Fv9YE"
      }
    },
    {
      "cell_type": "markdown",
      "source": [
        "##### 2. What is/are the insight(s) found from the chart?"
      ],
      "metadata": {
        "id": "ijmpgYnKYklI"
      }
    },
    {
      "cell_type": "markdown",
      "source": [
        " From the chart, it is clear that the Apartment and Private rooms are preferred more than that of shared rooms. In general, Shared rooms costs less and can be very useful for travellers who moves from one city to another city quite frequently."
      ],
      "metadata": {
        "id": "PSx9atu2YklI"
      }
    },
    {
      "cell_type": "markdown",
      "source": [
        "##### 3. Will the gained insights help creating a positive business impact?\n",
        "Are there any insights that lead to negative growth? Justify with specific reason."
      ],
      "metadata": {
        "id": "-JiQyfWJYklI"
      }
    },
    {
      "cell_type": "markdown",
      "source": [
        "*   **Positive impact-** The insights suggest that Airbnb hosts should focus on offering \"Entire home/apt\" and \"Private room\" listings to cater to the preferences of most travelers.\n",
        "*   **Negative impact**- The significantly lower number of \"Shared room\" listings implies that this category might not be as profitable to hosts."
      ],
      "metadata": {
        "id": "BcBbebzrYklV"
      }
    },
    {
      "cell_type": "markdown",
      "source": [
        "#### Chart - 3: Neighbourhood Group"
      ],
      "metadata": {
        "id": "EM7whBJCYoAo"
      }
    },
    {
      "cell_type": "code",
      "source": [
        "# Chart - 3 visualization code\n",
        "df['neighbourhood_group'].value_counts().plot(kind='bar',color=['r','b','y','g','m'])\n",
        "plt.show()"
      ],
      "metadata": {
        "id": "t6GMdE67YoAp"
      },
      "execution_count": null,
      "outputs": []
    },
    {
      "cell_type": "markdown",
      "source": [
        "##### 1. Why did you pick the specific chart?"
      ],
      "metadata": {
        "id": "fge-S5ZAYoAp"
      }
    },
    {
      "cell_type": "markdown",
      "source": [
        "This bar chart is chosen to provide a clear comparison of the number of AirBNB listings across different neighborhood groups."
      ],
      "metadata": {
        "id": "5dBItgRVYoAp"
      }
    },
    {
      "cell_type": "markdown",
      "source": [
        "##### 2. What is/are the insight(s) found from the chart?"
      ],
      "metadata": {
        "id": "85gYPyotYoAp"
      }
    },
    {
      "cell_type": "markdown",
      "source": [
        " From the chart, it is evident that Manhattan and Brooklyn has more number of listing than the Queens,Bronx and Staten island."
      ],
      "metadata": {
        "id": "4jstXR6OYoAp"
      }
    },
    {
      "cell_type": "markdown",
      "source": [
        "##### 3. Will the gained insights help creating a positive business impact?\n",
        "Are there any insights that lead to negative growth? Justify with specific reason."
      ],
      "metadata": {
        "id": "RoGjAbkUYoAp"
      }
    },
    {
      "cell_type": "markdown",
      "source": [
        "Business owners or property managers can focus their investments in Manhattan and Brooklyn, where there is a large number of listings and likely high demand.\n",
        " The insights suggest that Airbnb hosts should focus on offering \"Entire home/\n",
        "\n",
        "*   **Positive impact**- Business owners or property managers can focus their investments in Manhattan and Brooklyn, where there is a large number of listings and likely high demand.\n",
        "*   **Negative impact**- More concentrated listings implies that a high competitive market could lead to lower occupancy rates for some hosts or reduced profits due to pricing competition"
      ],
      "metadata": {
        "id": "zfJ8IqMcYoAp"
      }
    },
    {
      "cell_type": "markdown",
      "source": [
        "#### Chart - 4: Average room rent for locality"
      ],
      "metadata": {
        "id": "4Of9eVA-YrdM"
      }
    },
    {
      "cell_type": "code",
      "source": [
        "# Chart - 4 visualization code\n",
        "plt.figure(figsize=(12,8))\n",
        "df_per_night = df[df['minimum_nights']==1]\n",
        "df1 = df_per_night.groupby(['room_type','neighbourhood_group'])['price'].mean().sort_values(ascending=True)\n",
        "df1.plot(kind='bar')\n",
        "plt.title('Average Price for rooms in neighbourhood group')\n",
        "plt.ylabel('Average Daily Price')\n",
        "plt.xlabel('Neighbourhood Group')\n",
        "plt.show()"
      ],
      "metadata": {
        "id": "irlUoxc8YrdO"
      },
      "execution_count": null,
      "outputs": []
    },
    {
      "cell_type": "markdown",
      "source": [
        "##### 1. Why did you pick the specific chart?"
      ],
      "metadata": {
        "id": "iky9q4vBYrdO"
      }
    },
    {
      "cell_type": "markdown",
      "source": [
        "This chart shows the list of Average Price per night based on the neighbourhood group. The reason for choosing this chart is to show the clear relationship between room type, location, and price, which can be useful for understanding market dynamics in the AirBNB sector.\n",
        "This chart is useful for the tourists so that they can plan based on the budget."
      ],
      "metadata": {
        "id": "aJRCwT6DYrdO"
      }
    },
    {
      "cell_type": "markdown",
      "source": [
        "##### 2. What is/are the insight(s) found from the chart?"
      ],
      "metadata": {
        "id": "F6T5p64dYrdO"
      }
    },
    {
      "cell_type": "markdown",
      "source": [
        "Staying at a Apartment is always an expensive stay than shared room/private rooms for any location. This is so because Entire room is rented out by family for nice stay where privacy is also one of the major factor. Whereas Stay at Shared rooms are being preferred by travellers who generally don't wish to stay for long time at a particular place and moves around places quickly.\n",
        "\n",
        "So looking at the plot it is clear :\n",
        "\n",
        "a. Shared room at staten Island is the most cheapest stay per night whereas renting a Entire apartment/Home at Manhattan per night is the most expensive.\n",
        "\n",
        "b. Average price for Private room is considerably expensive at Manhattan than other private rooms in the neighborhood. This clearly states that Manhattan offers more expensive stay than any other locality.\n",
        "\n",
        "c. Bronx is the most cheapest stay in terms of neighbourhood group comparison in respect to room type.\n",
        "\n",
        "d. Shared room at Staten Island is the cheapest whereas Apartment renting is not the cheapest. This can be due to the location of a perfect gateway from the rush of the city for quality time with family get-togethers."
      ],
      "metadata": {
        "id": "Xx8WAJvtYrdO"
      }
    },
    {
      "cell_type": "markdown",
      "source": [
        "##### 3. Will the gained insights help creating a positive business impact?\n",
        "Are there any insights that lead to negative growth? Justify with specific reason."
      ],
      "metadata": {
        "id": "y-Ehk30pYrdP"
      }
    },
    {
      "cell_type": "markdown",
      "source": [
        "*   **Positive impact-** Hosts in lower-priced areas like Staten Island or the Bronx can attract budget-conscious travelers by emphasizing their lower prices for shared and private rooms.\n",
        "* **Negative impact-**High prices in competetive markets could turn off potential renters, especially during periods of low demand."
      ],
      "metadata": {
        "id": "jLNxxz7MYrdP"
      }
    },
    {
      "cell_type": "markdown",
      "source": [
        "#### Chart - 5: Expensive Neighbourhood"
      ],
      "metadata": {
        "id": "bamQiAODYuh1"
      }
    },
    {
      "cell_type": "code",
      "source": [
        "# Chart - 5 visualization code\n",
        "# Group by 'neighbourhood' and calculate the mean price\n",
        "top_10_expensive_neighbourhood = df.groupby('neighbourhood')['price'].mean().nlargest(10)\n",
        "\n",
        "plt.figure(figsize=(12, 8))\n",
        "sns.barplot(x=top_10_expensive_neighbourhood.values, y=top_10_expensive_neighbourhood.index, palette='magma')\n",
        "\n",
        "plt.title('Top 10 Most Expensive Localities in Airbnb Listings (Based on Average Price)', fontsize=16)\n",
        "plt.xlabel('Average Price', fontsize=12)\n",
        "plt.ylabel('Neighbourhood', fontsize=12)\n",
        "\n",
        "plt.show()"
      ],
      "metadata": {
        "id": "TIJwrbroYuh3"
      },
      "execution_count": null,
      "outputs": []
    },
    {
      "cell_type": "markdown",
      "source": [
        "##### 1. Why did you pick the specific chart?"
      ],
      "metadata": {
        "id": "QHF8YVU7Yuh3"
      }
    },
    {
      "cell_type": "markdown",
      "source": [
        "A horizontal bar chart was chosen to visually represent the average prices of different neighborhoods in Airbnb listings. This format is effective for comparing multiple values and easily identifying the highest and lowest priced areas.\n",
        "\n",
        "We have plotted only Top 10 neighbourhood with respect to average price. This will help a traveller to choose the appropriate neighbourhood based on his/her budget."
      ],
      "metadata": {
        "id": "dcxuIMRPYuh3"
      }
    },
    {
      "cell_type": "markdown",
      "source": [
        "##### 2. What is/are the insight(s) found from the chart?"
      ],
      "metadata": {
        "id": "GwzvFGzlYuh3"
      }
    },
    {
      "cell_type": "markdown",
      "source": [
        "Fort Wadsworth is the most expensive neighborhood, significantly outpacing others in terms of average price.\n",
        "Woodrow and Sea Gate also command premium prices.\n",
        "NoHo is the least expensive neighborhood."
      ],
      "metadata": {
        "id": "uyqkiB8YYuh3"
      }
    },
    {
      "cell_type": "markdown",
      "source": [
        "##### 3. Will the gained insights help creating a positive business impact?\n",
        "Are there any insights that lead to negative growth? Justify with specific reason."
      ],
      "metadata": {
        "id": "qYpmQ266Yuh3"
      }
    },
    {
      "cell_type": "markdown",
      "source": [
        "*   **Positive market-** This data can help Airbnb hosts in these neighborhoods set competitive prices based on the local market.\n",
        "*   **Negative impact-** If hosts in lower-priced neighborhoods significantly increase their rates based on the chart, it could deter potential guests and negatively impact occupancy."
      ],
      "metadata": {
        "id": "_WtzZ_hCYuh4"
      }
    },
    {
      "cell_type": "markdown",
      "source": [
        "#### Chart - 6: Top 10 neighbourhood locality based on listings"
      ],
      "metadata": {
        "id": "OH-pJp9IphqM"
      }
    },
    {
      "cell_type": "code",
      "source": [
        "# Chart - 6 visualization code\n",
        "df5 = df.groupby('neighbourhood')[['neighbourhood','host_name']].agg(['count'])['host_name'].sort_values(by='count',ascending=False).rename(index=str,columns={'Count':'Listing Count'})\n",
        "\n",
        "df5.head(10).plot(kind='barh')\n",
        "plt.show()"
      ],
      "metadata": {
        "id": "kuRf4wtuphqN"
      },
      "execution_count": null,
      "outputs": []
    },
    {
      "cell_type": "markdown",
      "source": [
        "##### 1. Why did you pick the specific chart?"
      ],
      "metadata": {
        "id": "bbFf2-_FphqN"
      }
    },
    {
      "cell_type": "markdown",
      "source": [
        "A horizontal bar chart was chosen to visually represent the relative popularity of different neighborhoods in the dataset, as indicated by the count of listings."
      ],
      "metadata": {
        "id": "loh7H2nzphqN"
      }
    },
    {
      "cell_type": "markdown",
      "source": [
        "##### 2. What is/are the insight(s) found from the chart?"
      ],
      "metadata": {
        "id": "_ouA3fa0phqN"
      }
    },
    {
      "cell_type": "markdown",
      "source": [
        "Williamsburg is the most popular neighborhood, followed by Bedford-Stuyvesant.\n",
        "Midtown has the lowest number of listings."
      ],
      "metadata": {
        "id": "VECbqPI7phqN"
      }
    },
    {
      "cell_type": "markdown",
      "source": [
        "##### 3. Will the gained insights help creating a positive business impact?\n",
        "Are there any insights that lead to negative growth? Justify with specific reason."
      ],
      "metadata": {
        "id": "Seke61FWphqN"
      }
    },
    {
      "cell_type": "markdown",
      "source": [
        "*   **Positive market-** This data can help businesses target specific neighborhoods with higher foot traffic and potential customer bases.\n",
        "*   **Negative impact-** If too many businesses concentrate in the most popular neighborhoods, it could lead to increased competition and decreased profitability."
      ],
      "metadata": {
        "id": "DW4_bGpfphqN"
      }
    },
    {
      "cell_type": "markdown",
      "source": [
        "#### Chart - 7: Location and Review Score"
      ],
      "metadata": {
        "id": "PIIx-8_IphqN"
      }
    },
    {
      "cell_type": "code",
      "source": [
        "# Chart - 7 visualization code\n",
        "fig = plt.figure(figsize=(12,4))\n",
        "review_50 = df[df['number_of_reviews']>=50]\n",
        "df2 = review_50['neighbourhood_group'].value_counts()\n",
        "df2.plot(kind='bar',color=['r','b','g','y','m'])\n",
        "plt.title('Location and Review Score(Min of 50)')\n",
        "plt.ylabel('Number of Review')\n",
        "plt.xlabel('Neighbourhood Group')\n",
        "plt.show()"
      ],
      "metadata": {
        "id": "lqAIGUfyphqO"
      },
      "execution_count": null,
      "outputs": []
    },
    {
      "cell_type": "markdown",
      "source": [
        "##### 1. Why did you pick the specific chart?"
      ],
      "metadata": {
        "id": "t27r6nlMphqO"
      }
    },
    {
      "cell_type": "markdown",
      "source": [
        "This chart shows the count of review v/s neighbourhood group filtered by a minimum review score of 50."
      ],
      "metadata": {
        "id": "iv6ro40sphqO"
      }
    },
    {
      "cell_type": "markdown",
      "source": [
        "##### 2. What is/are the insight(s) found from the chart?"
      ],
      "metadata": {
        "id": "r2jJGEOYphqO"
      }
    },
    {
      "cell_type": "markdown",
      "source": [
        "According to the plot, Brooklyn got most review in comparison to Manhattan and that is an interesting find. Also Staten Island which is cheaper has less review than the other neighbourhood group."
      ],
      "metadata": {
        "id": "Po6ZPi4hphqO"
      }
    },
    {
      "cell_type": "markdown",
      "source": [
        "##### 3. Will the gained insights help creating a positive business impact?\n",
        "Are there any insights that lead to negative growth? Justify with specific reason."
      ],
      "metadata": {
        "id": "b0JNsNcRphqO"
      }
    },
    {
      "cell_type": "markdown",
      "source": [
        "Review is the one of the important criteria with online activity these days. This gives a lot of insights to a particular place for tourist and they can swing mood when it comes to online booking. A cheap place with bad review can drive a tourist for not booking and an expensive place with nicest review can shell a tourist more than what he have thought initially."
      ],
      "metadata": {
        "id": "xvSq8iUTphqO"
      }
    },
    {
      "cell_type": "markdown",
      "source": [
        "#### Chart - 8: Top 5 host"
      ],
      "metadata": {
        "id": "BZR9WyysphqO"
      }
    },
    {
      "cell_type": "code",
      "source": [
        "# Chart - 8 visualization code\n",
        "plt.figure(figsize=(12,6))\n",
        "review_50.head(2)\n",
        "df1 = review_50['host_name'].value_counts()[:5].plot(kind='bar',color=['r','b','g','y','m'])\n",
        "df.columns"
      ],
      "metadata": {
        "id": "TdPTWpAVphqO"
      },
      "execution_count": null,
      "outputs": []
    },
    {
      "cell_type": "markdown",
      "source": [
        "##### 1. Why did you pick the specific chart?"
      ],
      "metadata": {
        "id": "jj7wYXLtphqO"
      }
    },
    {
      "cell_type": "markdown",
      "source": [
        "A bar chart was chosen to visually represent the relative popularity of different hosts based on the review score (minimum 50). This increases the confidence of tourist before booking."
      ],
      "metadata": {
        "id": "Ob8u6rCTphqO"
      }
    },
    {
      "cell_type": "markdown",
      "source": [
        "##### 2. What is/are the insight(s) found from the chart?"
      ],
      "metadata": {
        "id": "eZrbJ2SmphqO"
      }
    },
    {
      "cell_type": "markdown",
      "source": [
        "Michael is the most popular host, followed by Alex.\n",
        "John has the lowest number of listings.\n"
      ],
      "metadata": {
        "id": "mZtgC_hjphqO"
      }
    },
    {
      "cell_type": "markdown",
      "source": [
        "##### 3. Will the gained insights help creating a positive business impact?\n",
        "Are there any insights that lead to negative growth? Justify with specific reason."
      ],
      "metadata": {
        "id": "rFu4xreNphqO"
      }
    },
    {
      "cell_type": "markdown",
      "source": [
        "*   **Positive market-** This data can help identify top-performing hosts who might be eligible for special recognition or incentives.\n",
        "*   **Negative impact-**  If a few hosts dominate the market, it could create barriers for new hosts to enter the platform."
      ],
      "metadata": {
        "id": "ey_0qi68phqO"
      }
    },
    {
      "cell_type": "markdown",
      "source": [
        "#### Chart - 9: Correlation Heatmap"
      ],
      "metadata": {
        "id": "NC_X3p0fY2L0"
      }
    },
    {
      "cell_type": "code",
      "source": [
        "# Correlation Heatmap visualization code\n",
        "plt.figure(figsize=(12, 8))\n",
        "sns.heatmap(df[['price', 'minimum_nights', 'number_of_reviews','reviews_per_month', 'calculated_host_listings_count', 'availability_365']].corr(), annot=True, cmap='coolwarm', linewidths=0.5)\n",
        "plt.title('Correlation Heatmap of Numerical Features')\n",
        "plt.show()"
      ],
      "metadata": {
        "id": "xyC9zolEZNRQ"
      },
      "execution_count": null,
      "outputs": []
    },
    {
      "cell_type": "markdown",
      "source": [
        "##### 1. Why did you pick the specific chart?"
      ],
      "metadata": {
        "id": "UV0SzAkaZNRQ"
      }
    },
    {
      "cell_type": "markdown",
      "source": [
        "A correlation heatmap was chosen to visually represent the relationships between different numerical features in the dataset. This format is effective for quickly identifying positive and negative correlations between variables"
      ],
      "metadata": {
        "id": "DVPuT8LYZNRQ"
      }
    },
    {
      "cell_type": "markdown",
      "source": [
        "##### 2. What is/are the insight(s) found from the chart?"
      ],
      "metadata": {
        "id": "YPEH6qLeZNRQ"
      }
    },
    {
      "cell_type": "markdown",
      "source": [
        "Listings with longer minimum stays might be associated with hosts who have more listings. Most other pairs of variables exhibit weak or no correlations, indicating minimal relationships between them."
      ],
      "metadata": {
        "id": "bfSqtnDqZNRR"
      }
    },
    {
      "cell_type": "markdown",
      "source": [
        "#### Chart - 10: Pair Plot"
      ],
      "metadata": {
        "id": "q29F0dvdveiT"
      }
    },
    {
      "cell_type": "code",
      "source": [
        "# Pair Plot visualization code\n",
        "# Pair Plot for selected numeric variables\n",
        "sns.pairplot(df[['price', 'minimum_nights', 'number_of_reviews', 'reviews_per_month', 'availability_365']])\n",
        "plt.show()"
      ],
      "metadata": {
        "id": "o58-TEIhveiU"
      },
      "execution_count": null,
      "outputs": []
    },
    {
      "cell_type": "markdown",
      "source": [
        "##### 1. Why did you pick the specific chart?"
      ],
      "metadata": {
        "id": "EXh0U9oCveiU"
      }
    },
    {
      "cell_type": "markdown",
      "source": [
        "A pair plot was chosen to visually represent the relationships between different numerical features in the dataset. This format is effective for quickly exploring the distribution of each variable and identifying potential correlations between pairs of variables."
      ],
      "metadata": {
        "id": "eMmPjTByveiU"
      }
    },
    {
      "cell_type": "markdown",
      "source": [
        "##### 2. What is/are the insight(s) found from the chart?"
      ],
      "metadata": {
        "id": "22aHeOlLveiV"
      }
    },
    {
      "cell_type": "markdown",
      "source": [
        "The pair plot reveals the distribution of each variable, including skewness and outliers.\n",
        "Visual patterns in the scatter plots suggest potential correlations between certain pairs of variables, such as a positive correlation between number_of_reviews and reviews_per_month."
      ],
      "metadata": {
        "id": "uPQ8RGwHveiV"
      }
    },
    {
      "cell_type": "markdown",
      "source": [
        "## **5. Solution to Business Objective**"
      ],
      "metadata": {
        "id": "JcMwzZxoAimU"
      }
    },
    {
      "cell_type": "markdown",
      "source": [
        "#### What do you suggest the client to achieve Business Objective ?\n",
        "\n",
        "Explain Briefly."
      ],
      "metadata": {
        "id": "8G2x9gOozGDZ"
      }
    },
    {
      "cell_type": "markdown",
      "source": [
        "Solution to Achieve Business Objective:\n",
        "\n",
        "*   Define the specific objectives(e.g., revenue growth, market expansion, customer satisfaction).\n",
        "*   Evaluate existing data to identify areas of improvement.\n",
        "*   Categorize customers based on demographics, preferences, and behaviors\n",
        "*   Regularly assess and improve the service.\n",
        "*   Gather feedback, conduct surveys, and understand customer.\n",
        "*   Leverage Technology to streamline operations and improve efficiency\n",
        "*   Stay Competitive with Pricing.\n",
        "*   Continuously refine marketing strategies.\n",
        "*   Build partnerships with other businesses.\n",
        "*   Regularly track performance against business goals."
      ],
      "metadata": {
        "id": "pASKb0qOza21"
      }
    },
    {
      "cell_type": "markdown",
      "source": [
        "# **Conclusion**"
      ],
      "metadata": {
        "id": "gCX9965dhzqZ"
      }
    },
    {
      "cell_type": "markdown",
      "source": [
        "*   Manhattan and Brooklyn dominate in terms of the number of listings, indicating high demand and competition in these boroughs.\n",
        "*   Staten Island and the Bronx have fewer listings, representing potential growth opportunities for hosts willing to invest in less saturated markets.\n",
        "*   Entire homes/apartments in Manhattan command the highest daily rates, making it a lucrative area for property owners with premium offerings.\n",
        "*   Shared rooms across all neighborhoods are priced more affordably, with Staten Island offering the cheapest options.\n",
        "*  Pricing segmentation by neighborhood and room type offers hosts insights on how to strategically price their properties to maximize returns.\n",
        "*   While Manhattan and Brooklyn offer higher returns, hosts should be cautious about market saturation, which may affect occupancy rates and profits.\n",
        "*   Lower-priced areas such as the Bronx and Staten Island can attract budget-conscious travelers through targeted marketing, which could improve occupancy rates.\n",
        "*   These insights empower AirBNB hosts and investors to make data-driven decisions on property pricing, investment locations, and marketing strategies to enhance profitability."
      ],
      "metadata": {
        "id": "Fjb1IsQkh3yE"
      }
    },
    {
      "cell_type": "markdown",
      "source": [
        "### ***Hurrah! You have successfully completed your EDA Capstone Project !!!***"
      ],
      "metadata": {
        "id": "gIfDvo9L0UH2"
      }
    }
  ]
}